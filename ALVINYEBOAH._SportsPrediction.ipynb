{
 "cells": [
  {
   "cell_type": "code",
   "execution_count": 28,
   "id": "8c00ba10",
   "metadata": {},
   "outputs": [],
   "source": [
    "import pandas as pd\n",
    "import numpy as np\n",
    "from sklearn.impute import SimpleImputer\n",
    "from sklearn.preprocessing import StandardScaler\n",
    "from sklearn.model_selection import train_test_split\n",
    "from sklearn.metrics import mean_absolute_error\n",
    "import joblib\n",
    "import streamlit as st"
   ]
  },
  {
   "cell_type": "code",
   "execution_count": 29,
   "id": "a65d1ac3",
   "metadata": {},
   "outputs": [
    {
     "name": "stderr",
     "output_type": "stream",
     "text": [
      "/var/folders/r1/_k1n_r550418q376szl2lt1r0000gn/T/ipykernel_54451/2176991627.py:2: DtypeWarning: Columns (25,108) have mixed types. Specify dtype option on import or set low_memory=False.\n",
      "  test_df = pd.read_csv('players.csv', na_values= \"\")\n"
     ]
    }
   ],
   "source": [
    "# Loading the dataset\n",
    "test_df = pd.read_csv('players.csv', na_values= \"\")"
   ]
  },
  {
   "cell_type": "code",
   "execution_count": 32,
   "id": "0ed0e9fc",
   "metadata": {},
   "outputs": [
    {
     "data": {
      "text/plain": [
       "overall                        1.000000\n",
       "movement_reactions             0.871823\n",
       "passing                        0.715001\n",
       "mentality_composure            0.708867\n",
       "dribbling                      0.666402\n",
       "potential                      0.644275\n",
       "power_shot_power               0.561180\n",
       "physic                         0.529234\n",
       "mentality_vision               0.523025\n",
       "attacking_short_passing        0.516788\n",
       "goalkeeping_speed              0.499533\n",
       "skill_long_passing             0.498216\n",
       "shooting                       0.489623\n",
       "skill_ball_control             0.460411\n",
       "age                            0.459451\n",
       "skill_curve                    0.420423\n",
       "power_long_shots               0.410010\n",
       "attacking_crossing             0.401356\n",
       "mentality_aggression           0.400161\n",
       "power_stamina                  0.385150\n",
       "skill_dribbling                0.384351\n",
       "skill_fk_accuracy              0.381030\n",
       "attacking_volleys              0.380942\n",
       "power_strength                 0.364366\n",
       "mentality_positioning          0.358562\n",
       "defending                      0.346760\n",
       "attacking_heading_accuracy     0.343901\n",
       "mentality_penalties            0.343690\n",
       "attacking_finishing            0.338746\n",
       "mentality_interceptions        0.316470\n",
       "defending_marking_awareness    0.312093\n",
       "power_jumping                  0.284689\n",
       "movement_agility               0.270279\n",
       "defending_standing_tackle      0.259773\n",
       "defending_sliding_tackle       0.233589\n",
       "movement_sprint_speed          0.205736\n",
       "movement_acceleration          0.194044\n",
       "pace                           0.174695\n",
       "weight_kg                      0.150324\n",
       "movement_balance               0.123700\n",
       "height_cm                      0.042787\n",
       "goalkeeping_positioning       -0.002485\n",
       "goalkeeping_reflexes          -0.007960\n",
       "goalkeeping_diving            -0.010990\n",
       "goalkeeping_handling          -0.011080\n",
       "goalkeeping_kicking           -0.012986\n",
       "Name: overall, dtype: float64"
      ]
     },
     "execution_count": 32,
     "metadata": {},
     "output_type": "execute_result"
    }
   ],
   "source": [
    "# Select relevant features\n",
    "best_correlated_columns = ['overall', 'potential', 'age', 'height_cm', 'weight_kg', 'pace', 'shooting', 'passing',\n",
    "                     'dribbling', 'defending', 'physic', 'attacking_crossing', 'attacking_finishing',\n",
    "                     'attacking_heading_accuracy', 'attacking_short_passing', 'attacking_volleys',\n",
    "                     'skill_dribbling', 'skill_curve', 'skill_fk_accuracy', 'skill_long_passing',\n",
    "                     'skill_ball_control', 'movement_acceleration', 'movement_sprint_speed', 'movement_agility',\n",
    "                     'movement_reactions', 'movement_balance', 'power_shot_power', 'power_jumping', 'power_stamina',\n",
    "                     'power_strength', 'power_long_shots', 'mentality_aggression', 'mentality_interceptions',\n",
    "                     'mentality_positioning', 'mentality_vision', 'mentality_penalties', 'mentality_composure',\n",
    "                     'defending_marking_awareness', 'defending_standing_tackle', 'defending_sliding_tackle',\n",
    "                     'goalkeeping_diving', 'goalkeeping_handling', 'goalkeeping_kicking', 'goalkeeping_positioning',\n",
    "                     'goalkeeping_reflexes', 'goalkeeping_speed']\n",
    "\n",
    "# Calculate correlation with 'overall' and sort\n",
    "correlation_matrix = test_df[best_correlated_columns].corr()\n",
    "correlation_overall = correlation_matrix['overall'].sort_values(ascending=False)\n",
    "correlation_overall\n"
   ]
  },
  {
   "cell_type": "code",
   "execution_count": 47,
   "id": "d99bfcc3",
   "metadata": {},
   "outputs": [
    {
     "data": {
      "text/plain": [
       "['movement_reactions',\n",
       " 'passing',\n",
       " 'mentality_composure',\n",
       " 'dribbling',\n",
       " 'potential',\n",
       " 'power_shot_power',\n",
       " 'physic',\n",
       " 'mentality_vision',\n",
       " 'attacking_short_passing',\n",
       " 'goalkeeping_speed',\n",
       " 'skill_long_passing',\n",
       " 'shooting',\n",
       " 'skill_ball_control',\n",
       " 'age',\n",
       " 'skill_curve',\n",
       " 'power_long_shots',\n",
       " 'attacking_crossing',\n",
       " 'mentality_aggression',\n",
       " 'power_stamina',\n",
       " 'skill_dribbling',\n",
       " 'skill_fk_accuracy',\n",
       " 'attacking_volleys',\n",
       " 'power_strength',\n",
       " 'mentality_positioning',\n",
       " 'defending',\n",
       " 'attacking_heading_accuracy',\n",
       " 'mentality_penalties',\n",
       " 'attacking_finishing',\n",
       " 'mentality_interceptions',\n",
       " 'defending_marking_awareness',\n",
       " 'power_jumping',\n",
       " 'movement_agility',\n",
       " 'defending_standing_tackle',\n",
       " 'defending_sliding_tackle',\n",
       " 'movement_sprint_speed',\n",
       " 'movement_acceleration',\n",
       " 'pace',\n",
       " 'weight_kg',\n",
       " 'movement_balance',\n",
       " 'height_cm',\n",
       " 'goalkeeping_positioning',\n",
       " 'goalkeeping_reflexes',\n",
       " 'goalkeeping_diving',\n",
       " 'goalkeeping_handling',\n",
       " 'goalkeeping_kicking',\n",
       " 'overall']"
      ]
     },
     "execution_count": 47,
     "metadata": {},
     "output_type": "execute_result"
    }
   ],
   "source": [
    "# Select best correlated features (excluding 'overall' itself)\n",
    "best_correlated_columns = correlation_overall.index[1:50].tolist()  # top 30 features\n",
    "best_correlated_columns.append('overall')\n",
    "best_correlated_columns"
   ]
  },
  {
   "cell_type": "code",
   "execution_count": 48,
   "id": "09539363",
   "metadata": {},
   "outputs": [],
   "source": [
    "test_df = pd.read_csv('players.csv', usecols=best_correlated_columns)"
   ]
  },
  {
   "cell_type": "code",
   "execution_count": 49,
   "id": "9c5f7147",
   "metadata": {},
   "outputs": [],
   "source": [
    "# Replacing NAN values with 0\n",
    "test_df.fillna(0, inplace=True)\n",
    "\n",
    "# combine instances with overall ratings 92 and 93 into a single class '92'\n",
    "test_df['overall'] = test_df['overall'].apply(lambda x: 92 if x in [92, 93] else x)\n"
   ]
  },
  {
   "cell_type": "code",
   "execution_count": 50,
   "id": "306a6199",
   "metadata": {},
   "outputs": [],
   "source": [
    "# Combine similar attributes into single features\n",
    "\n",
    "# Shooting skills\n",
    "shooting_attributes = ['shooting', 'power_shot_power', 'power_long_shots', 'attacking_volleys', 'attacking_finishing']\n",
    "test_df['shooting_skills'] = test_df[shooting_attributes].mean(axis=1)\n",
    "test_df.drop(columns=shooting_attributes, inplace=True)"
   ]
  },
  {
   "cell_type": "code",
   "execution_count": 51,
   "id": "31c560ae",
   "metadata": {},
   "outputs": [],
   "source": [
    "# Mentality attributes\n",
    "mentality_attributes = ['mentality_aggression', 'mentality_interceptions', 'mentality_positioning',\n",
    "                        'mentality_vision', 'mentality_penalties', 'mentality_composure']\n",
    "imputer = SimpleImputer(strategy='mean')\n",
    "test_df[mentality_attributes] = imputer.fit_transform(test_df[mentality_attributes])\n",
    "test_df['mentality'] = test_df[mentality_attributes].mean(axis=1)\n",
    "test_df.drop(columns=mentality_attributes, inplace=True)"
   ]
  },
  {
   "cell_type": "code",
   "execution_count": 52,
   "id": "59ebf967",
   "metadata": {},
   "outputs": [],
   "source": [
    "# Technical skills\n",
    "skill_attributes = ['skill_long_passing', 'skill_ball_control', 'skill_curve', 'skill_fk_accuracy', 'skill_dribbling']\n",
    "test_df['technical_skills'] = test_df[skill_attributes].mean(axis=1)\n",
    "test_df.drop(columns=skill_attributes, inplace=True)\n"
   ]
  },
  {
   "cell_type": "code",
   "execution_count": 53,
   "id": "95ce7491",
   "metadata": {},
   "outputs": [],
   "source": [
    "\n",
    "# Goalkeeping abilities\n",
    "goalkeeping_attributes = ['goalkeeping_diving', 'goalkeeping_handling', 'goalkeeping_kicking',\n",
    "                          'goalkeeping_positioning', 'goalkeeping_reflexes', 'goalkeeping_speed']\n",
    "test_df[goalkeeping_attributes] = imputer.fit_transform(test_df[goalkeeping_attributes])\n",
    "test_df['goalkeeping_ability'] = test_df[goalkeeping_attributes].mean(axis=1)\n",
    "test_df.drop(columns=goalkeeping_attributes, inplace=True)\n"
   ]
  },
  {
   "cell_type": "code",
   "execution_count": 54,
   "id": "0dba02ba",
   "metadata": {},
   "outputs": [],
   "source": [
    "# Transform all features to integer type\n",
    "test_df = test_df.astype(int)\n",
    "\n",
    "# Extract target and features\n",
    "y = test_df['overall']\n",
    "X = test_df.drop(columns=['overall'])"
   ]
  },
  {
   "cell_type": "code",
   "execution_count": 55,
   "id": "393ce8ad",
   "metadata": {},
   "outputs": [],
   "source": [
    "# Standardize the features\n",
    "scaler = StandardScaler()\n",
    "X_scaled = scaler.fit_transform(X)\n",
    "X = pd.DataFrame(X_scaled, columns=X.columns)\n",
    "\n",
    "# Split data into training and testing sets\n",
    "X_train, X_test, y_train, y_test = train_test_split(X, y, test_size=0.1, random_state=42, stratify=y)\n",
    "\n"
   ]
  },
  {
   "cell_type": "code",
   "execution_count": 57,
   "id": "d4126e69",
   "metadata": {},
   "outputs": [
    {
     "name": "stdout",
     "output_type": "stream",
     "text": [
      "Mean Absolute Error for Random Forest: 0.6811070686070687\n"
     ]
    }
   ],
   "source": [
    "# Train and evaluate models\n",
    "\n",
    "# Random Forest Regressor\n",
    "from sklearn.ensemble import RandomForestRegressor\n",
    "rf = RandomForestRegressor()\n",
    "rf.fit(X_train, y_train)\n",
    "y_pred_rf = rf.predict(X_test)\n",
    "mae_rf = mean_absolute_error(y_test, y_pred_rf)\n",
    "print(f'Mean Absolute Error for Random Forest: {mae_rf}')"
   ]
  },
  {
   "cell_type": "code",
   "execution_count": 63,
   "id": "e6108f59",
   "metadata": {},
   "outputs": [
    {
     "name": "stdout",
     "output_type": "stream",
     "text": [
      "Mean Absolute Error for XGBoost: 0.6945671053785296\n"
     ]
    }
   ],
   "source": [
    "# XGBoost Regressor\n",
    "from xgboost import XGBRegressor\n",
    "xgb_model = XGBRegressor()\n",
    "xgb_model.fit(X_train, y_train)\n",
    "y_pred_xgb = xgb_model.predict(X_test)\n",
    "mae_xgb = mean_absolute_error(y_test, y_pred_xgb)\n",
    "print(f'Mean Absolute Error for XGBoost: {mae_xgb}')"
   ]
  },
  {
   "cell_type": "code",
   "execution_count": null,
   "id": "f432486e",
   "metadata": {},
   "outputs": [],
   "source": [
    "# Gradient Boosting Regressor\n",
    "from sklearn.ensemble import GradientBoostingRegressor\n",
    "gb_model = GradientBoostingRegressor()\n",
    "gb_model.fit(X_train, y_train)\n",
    "y_pred_gb = gb_model.predict(X_test)\n",
    "mae_gb = mean_absolute_error(y_test, y_pred_gb)\n",
    "print(f'Mean Absolute Error for Gradient Boosting: {mae_gb}')"
   ]
  },
  {
   "cell_type": "code",
   "execution_count": 65,
   "id": "eb5eecd6",
   "metadata": {},
   "outputs": [],
   "source": [
    "from sklearn.model_selection import GridSearchCV\n",
    "rf_params = {\n",
    "    'n_estimators': [100, 200, 300],\n",
    "    'max_depth': [None, 10, 20],\n",
    "    'min_samples_split': [2, 5, 10]\n",
    "}\n",
    "grid_rf = GridSearchCV(estimator=RandomForestRegressor(), param_grid=rf_params, scoring='neg_mean_absolute_error', cv=5)\n",
    "grid_rf.fit(X_train, y_train)\n",
    "best_rf = grid_rf.best_estimator_\n",
    "\n",
    "# Hyperparameter tuning for XGBoost\n",
    "xgb_params = {\n",
    "    'n_estimators': [100, 200, 300],\n",
    "    'max_depth': [3, 5, 7],\n",
    "    'learning_rate': [0.1, 0.01, 0.001]\n",
    "}\n",
    "grid_xgb = GridSearchCV(estimator=XGBRegressor(), param_grid=xgb_params, scoring='neg_mean_absolute_error', cv=5)\n",
    "grid_xgb.fit(X_train, y_train)\n",
    "best_xgb = grid_xgb.best_estimator_\n"
   ]
  },
  {
   "cell_type": "code",
   "execution_count": 66,
   "id": "859b49b2",
   "metadata": {},
   "outputs": [
    {
     "name": "stdout",
     "output_type": "stream",
     "text": [
      "Mean Absolute Error for Ensemble Model: 0.6024129815078493\n"
     ]
    }
   ],
   "source": [
    "from sklearn.ensemble import VotingRegressor\n",
    "ensemble_model = VotingRegressor(estimators=[('rf', best_rf), ('xgb', best_xgb)])\n",
    "ensemble_model.fit(X_train, y_train)\n",
    "ensemble_predictions = ensemble_model.predict(X_test)\n",
    "mae_ensemble = mean_absolute_error(y_test, ensemble_predictions)\n",
    "print(f'Mean Absolute Error for Ensemble Model: {mae_ensemble}')\n"
   ]
  },
  {
   "cell_type": "code",
   "execution_count": 67,
   "id": "b5003571",
   "metadata": {},
   "outputs": [],
   "source": [
    "# Save the scaler\n",
    "joblib.dump(scaler, 'scaler_ensemble.pkl')\n",
    "\n",
    "# Save the ensemble model\n",
    "import pickle\n",
    "filename = 'sports_prediction_ensemble_model.pkl'\n",
    "pickle.dump(ensemble_model, open(filename, 'wb'))\n",
    "\n",
    "# Load the saved model (for verification)\n",
    "loaded_model = pickle.load(open(filename, 'rb'))\n"
   ]
  }
 ],
 "metadata": {
  "kernelspec": {
   "display_name": "Python 3 (ipykernel)",
   "language": "python",
   "name": "python3"
  },
  "language_info": {
   "codemirror_mode": {
    "name": "ipython",
    "version": 3
   },
   "file_extension": ".py",
   "mimetype": "text/x-python",
   "name": "python",
   "nbconvert_exporter": "python",
   "pygments_lexer": "ipython3",
   "version": "3.11.7"
  }
 },
 "nbformat": 4,
 "nbformat_minor": 5
}
